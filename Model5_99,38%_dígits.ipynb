{
 "cells": [
  {
   "cell_type": "code",
   "execution_count": 1,
   "id": "a56c86b8",
   "metadata": {},
   "outputs": [],
   "source": [
    "import scipy.io\n",
    "import numpy as np\n",
    "\n",
    "# Carregar dades des del fitxer .mat \n",
    "mat = scipy.io.loadmat(r\"C:\\Users\\joana\\Documents\\Projectes personals\\TR\\matlab\\matlab\\emnist-letters.mat\")\n",
    "\n",
    "# Accedir a les dades\n",
    "X_letters_train = mat['dataset']['train'][0,0]['images'][0,0]\n",
    "y_letters_train = mat['dataset']['train'][0,0]['labels'][0,0]\n",
    "X_letters_test = mat['dataset']['test'][0,0]['images'][0,0]\n",
    "y_letters_test = mat['dataset']['test'][0,0]['labels'][0,0]\n",
    "\n",
    "# Reformatar\n",
    "X_letters_train = X_letters_train.reshape((-1, 28, 28), order='F').astype(np.uint8)\n",
    "X_letters_test = X_letters_test.reshape((-1, 28, 28), order='F').astype(np.uint8)\n",
    "y_letters_train = y_letters_train.flatten() - 1  # Canviar de 1-26 a 0-25\n",
    "y_letters_test = y_letters_test.flatten() - 1"
   ]
  },
  {
   "cell_type": "code",
   "execution_count": 2,
   "id": "70992ec2",
   "metadata": {},
   "outputs": [],
   "source": [
    "mat_digits = scipy.io.loadmat(r\"C:\\Users\\joana\\Documents\\Projectes personals\\TR\\matlab\\matlab\\emnist-digits.mat\")\n",
    "\n",
    "# Dades d'entrenament\n",
    "X_digits_train = mat_digits['dataset']['train'][0,0]['images'][0,0]\n",
    "y_digits_train = mat_digits['dataset']['train'][0,0]['labels'][0,0]\n",
    "\n",
    "# Dades de test\n",
    "X_digits_test = mat_digits['dataset']['test'][0,0]['images'][0,0]\n",
    "y_digits_test = mat_digits['dataset']['test'][0,0]['labels'][0,0]"
   ]
  },
  {
   "cell_type": "code",
   "execution_count": 3,
   "id": "857d163c",
   "metadata": {},
   "outputs": [],
   "source": [
    "# Format de les imatges (vector --> matriu 28x28)\n",
    "X_digits_train = X_digits_train.reshape(-1, 28, 28, order='F').astype(np.uint8)\n",
    "X_digits_test = X_digits_test.reshape(-1, 28, 28, order='F').astype(np.uint8)\n",
    "\n",
    "# Ajusta etiquetes: els dígits van del 0 al 9, no cal restar 1\n",
    "y_digits_train = y_digits_train.flatten()\n",
    "y_digits_test = y_digits_test.flatten()\n",
    "\n",
    "# Reassignar etiquetes dels dígits perquè no se solapin amb les lletres\n",
    "y_digits_train += 26\n",
    "y_digits_test += 26"
   ]
  },
  {
   "cell_type": "code",
   "execution_count": 4,
   "id": "8c6c359e",
   "metadata": {},
   "outputs": [
    {
     "name": "stdout",
     "output_type": "stream",
     "text": [
      "Etiqueta original: 32\n",
      "One-hot encoded: [0. 0. 0. 0. 0. 0. 1. 0. 0. 0.]\n"
     ]
    }
   ],
   "source": [
    "from sklearn.preprocessing import OneHotEncoder\n",
    "\n",
    "# Inicialitzem l'encodificador\n",
    "encoder = OneHotEncoder(sparse_output=False, categories='auto')\n",
    "\n",
    "# Ajustem i transformem les etiquetes (cal reshaping per a columnes)\n",
    "y_train_cat_digits = encoder.fit_transform(y_digits_train.reshape(-1, 1))\n",
    "y_test_cat_digits = encoder.transform(y_digits_test.reshape(-1, 1))\n",
    "\n",
    "print(\"Etiqueta original:\", y_digits_train[2])\n",
    "print(\"One-hot encoded:\", y_train_cat_digits[2])"
   ]
  },
  {
   "cell_type": "code",
   "execution_count": 5,
   "id": "cd4527ff",
   "metadata": {},
   "outputs": [
    {
     "name": "stderr",
     "output_type": "stream",
     "text": [
      "c:\\Users\\joana\\anaconda3\\Lib\\site-packages\\keras\\src\\layers\\convolutional\\base_conv.py:113: UserWarning: Do not pass an `input_shape`/`input_dim` argument to a layer. When using Sequential models, prefer using an `Input(shape)` object as the first layer in the model instead.\n",
      "  super().__init__(activity_regularizer=activity_regularizer, **kwargs)\n"
     ]
    },
    {
     "name": "stdout",
     "output_type": "stream",
     "text": [
      "Epoch 1/10\n",
      "\u001b[1m1875/1875\u001b[0m \u001b[32m━━━━━━━━━━━━━━━━━━━━\u001b[0m\u001b[37m\u001b[0m \u001b[1m28s\u001b[0m 14ms/step - accuracy: 0.9409 - loss: 0.3303 - val_accuracy: 0.9876 - val_loss: 0.0489\n",
      "Epoch 2/10\n",
      "\u001b[1m1875/1875\u001b[0m \u001b[32m━━━━━━━━━━━━━━━━━━━━\u001b[0m\u001b[37m\u001b[0m \u001b[1m35s\u001b[0m 19ms/step - accuracy: 0.9804 - loss: 0.0740 - val_accuracy: 0.9912 - val_loss: 0.0310\n",
      "Epoch 3/10\n",
      "\u001b[1m1875/1875\u001b[0m \u001b[32m━━━━━━━━━━━━━━━━━━━━\u001b[0m\u001b[37m\u001b[0m \u001b[1m43s\u001b[0m 23ms/step - accuracy: 0.9848 - loss: 0.0562 - val_accuracy: 0.9920 - val_loss: 0.0286\n",
      "Epoch 4/10\n",
      "\u001b[1m1875/1875\u001b[0m \u001b[32m━━━━━━━━━━━━━━━━━━━━\u001b[0m\u001b[37m\u001b[0m \u001b[1m41s\u001b[0m 22ms/step - accuracy: 0.9871 - loss: 0.0479 - val_accuracy: 0.9922 - val_loss: 0.0299\n",
      "Epoch 5/10\n",
      "\u001b[1m1875/1875\u001b[0m \u001b[32m━━━━━━━━━━━━━━━━━━━━\u001b[0m\u001b[37m\u001b[0m \u001b[1m40s\u001b[0m 21ms/step - accuracy: 0.9886 - loss: 0.0418 - val_accuracy: 0.9936 - val_loss: 0.0245\n",
      "Epoch 6/10\n",
      "\u001b[1m1875/1875\u001b[0m \u001b[32m━━━━━━━━━━━━━━━━━━━━\u001b[0m\u001b[37m\u001b[0m \u001b[1m42s\u001b[0m 22ms/step - accuracy: 0.9897 - loss: 0.0386 - val_accuracy: 0.9931 - val_loss: 0.0271\n",
      "Epoch 7/10\n",
      "\u001b[1m1875/1875\u001b[0m \u001b[32m━━━━━━━━━━━━━━━━━━━━\u001b[0m\u001b[37m\u001b[0m \u001b[1m63s\u001b[0m 33ms/step - accuracy: 0.9903 - loss: 0.0361 - val_accuracy: 0.9929 - val_loss: 0.0297\n",
      "Epoch 8/10\n",
      "\u001b[1m1875/1875\u001b[0m \u001b[32m━━━━━━━━━━━━━━━━━━━━\u001b[0m\u001b[37m\u001b[0m \u001b[1m54s\u001b[0m 29ms/step - accuracy: 0.9913 - loss: 0.0328 - val_accuracy: 0.9942 - val_loss: 0.0270\n",
      "Epoch 9/10\n",
      "\u001b[1m1875/1875\u001b[0m \u001b[32m━━━━━━━━━━━━━━━━━━━━\u001b[0m\u001b[37m\u001b[0m \u001b[1m51s\u001b[0m 27ms/step - accuracy: 0.9920 - loss: 0.0294 - val_accuracy: 0.9945 - val_loss: 0.0262\n",
      "Epoch 10/10\n",
      "\u001b[1m1875/1875\u001b[0m \u001b[32m━━━━━━━━━━━━━━━━━━━━\u001b[0m\u001b[37m\u001b[0m \u001b[1m46s\u001b[0m 25ms/step - accuracy: 0.9922 - loss: 0.0291 - val_accuracy: 0.9938 - val_loss: 0.0293\n",
      "Precisió CNN: 0.9938\n"
     ]
    }
   ],
   "source": [
    "import tensorflow as tf\n",
    "from tensorflow.keras.models import Sequential # type: ignore\n",
    "from tensorflow.keras.layers import Conv2D, MaxPooling2D, Flatten, Dense, Dropout # type: ignore\n",
    "\n",
    "# Defineixo la CNN\n",
    "model_cnn = Sequential([\n",
    "    Conv2D(32, (3,3), activation='relu', input_shape=(28, 28, 1)),\n",
    "    MaxPooling2D((2,2)),\n",
    "\n",
    "    Conv2D(64, (3,3), activation='relu'),\n",
    "    MaxPooling2D((2,2)),\n",
    "\n",
    "    Flatten(),\n",
    "    Dense(128, activation='relu'),\n",
    "    Dropout(0.5),  # Redueix overfitting\n",
    "    Dense(y_train_cat_digits.shape[1], activation='softmax')  # Sortida: tantes neurones com classes\n",
    "])\n",
    "\n",
    "# Compilo\n",
    "model_cnn.compile(\n",
    "    optimizer='adam',\n",
    "    loss='categorical_crossentropy',\n",
    "    metrics=['accuracy']\n",
    ")\n",
    "\n",
    "# Entreno\n",
    "history_cnn = model_cnn.fit(\n",
    "    X_digits_train, y_train_cat_digits,\n",
    "    epochs=10,\n",
    "    batch_size=128,\n",
    "    validation_data=(X_digits_test, y_test_cat_digits),\n",
    "    verbose=1\n",
    ")\n",
    "\n",
    "# Avaluació\n",
    "test_loss, test_acc = model_cnn.evaluate(X_digits_test, y_test_cat_digits, verbose=0)\n",
    "print(f\"Precisió CNN: {test_acc:.4f}\")"
   ]
  }
 ],
 "metadata": {
  "kernelspec": {
   "display_name": "base",
   "language": "python",
   "name": "python3"
  },
  "language_info": {
   "codemirror_mode": {
    "name": "ipython",
    "version": 3
   },
   "file_extension": ".py",
   "mimetype": "text/x-python",
   "name": "python",
   "nbconvert_exporter": "python",
   "pygments_lexer": "ipython3",
   "version": "3.12.7"
  }
 },
 "nbformat": 4,
 "nbformat_minor": 5
}
