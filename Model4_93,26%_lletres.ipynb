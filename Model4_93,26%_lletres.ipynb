{
 "cells": [
  {
   "cell_type": "code",
   "execution_count": 2,
   "id": "f384520e",
   "metadata": {},
   "outputs": [],
   "source": [
    "import scipy.io\n",
    "import numpy as np\n",
    "\n",
    "# Carregar dades des del fitxer .mat \n",
    "mat = scipy.io.loadmat(r\"C:\\Users\\joana\\Documents\\Projectes personals\\TR\\matlab\\matlab\\emnist-letters.mat\")\n",
    "\n",
    "# Accedir a les dades\n",
    "X_letters_train = mat['dataset']['train'][0,0]['images'][0,0]\n",
    "y_letters_train = mat['dataset']['train'][0,0]['labels'][0,0]\n",
    "X_letters_test = mat['dataset']['test'][0,0]['images'][0,0]\n",
    "y_letters_test = mat['dataset']['test'][0,0]['labels'][0,0]\n",
    "\n",
    "# Reformatar\n",
    "X_letters_train = X_letters_train.reshape((-1, 28, 28), order='F').astype(np.uint8)\n",
    "X_letters_test = X_letters_test.reshape((-1, 28, 28), order='F').astype(np.uint8)\n",
    "y_letters_train = y_letters_train.flatten() - 1  # Canviar de 1-26 a 0-25\n",
    "y_letters_test = y_letters_test.flatten() - 1"
   ]
  },
  {
   "cell_type": "code",
   "execution_count": 3,
   "id": "3869fe3a",
   "metadata": {},
   "outputs": [
    {
     "data": {
      "image/png": "[encoded data removed]",
      "text/plain": [
       "<Figure size 640x480 with 1 Axes>"
      ]
     },
     "metadata": {},
     "output_type": "display_data"
    }
   ],
   "source": [
    "import matplotlib.pyplot as plt\n",
    "\n",
    "plt.imshow(X_letters_train[32], cmap='gray')\n",
    "plt.title(f\"Etiqueta: {y_letters_train[32]}\")\n",
    "plt.show()"
   ]
  },
  {
   "cell_type": "code",
   "execution_count": 4,
   "id": "5a7949f2",
   "metadata": {},
   "outputs": [],
   "source": [
    "mat_digits = scipy.io.loadmat(r\"C:\\Users\\joana\\Documents\\Projectes personals\\TR\\matlab\\matlab\\emnist-digits.mat\")\n",
    "\n",
    "# Dades d'entrenament\n",
    "X_digits_train = mat_digits['dataset']['train'][0,0]['images'][0,0]\n",
    "y_digits_train = mat_digits['dataset']['train'][0,0]['labels'][0,0]\n",
    "\n",
    "# Dades de test\n",
    "X_digits_test = mat_digits['dataset']['test'][0,0]['images'][0,0]\n",
    "y_digits_test = mat_digits['dataset']['test'][0,0]['labels'][0,0]"
   ]
  },
  {
   "cell_type": "code",
   "execution_count": 5,
   "id": "91842b6e",
   "metadata": {},
   "outputs": [],
   "source": [
    "# Format de les imatges (vector --> matriu 28x28)\n",
    "X_digits_train = X_digits_train.reshape(-1, 28, 28, order='F').astype(np.uint8)\n",
    "X_digits_test = X_digits_test.reshape(-1, 28, 28, order='F').astype(np.uint8)\n",
    "\n",
    "# Ajusta etiquetes: els dígits van del 0 al 9, no cal restar 1\n",
    "y_digits_train = y_digits_train.flatten()\n",
    "y_digits_test = y_digits_test.flatten()\n",
    "\n",
    "# Reassignar etiquetes dels dígits perquè no se solapin amb les lletres\n",
    "y_digits_train += 26\n",
    "y_digits_test += 26"
   ]
  },
  {
   "cell_type": "code",
   "execution_count": 6,
   "id": "626f8cf2",
   "metadata": {},
   "outputs": [],
   "source": [
    "# Unim els conjunts d'entrenament\n",
    "X_train_total = np.concatenate([X_letters_train, X_digits_train], axis=0)\n",
    "y_train_total = np.concatenate([y_letters_train, y_digits_train], axis=0)\n",
    "\n",
    "# I els conjunts de test\n",
    "X_test_total = np.concatenate([X_letters_test, X_digits_test], axis=0)\n",
    "y_test_total = np.concatenate([y_letters_test, y_digits_test], axis=0)\n",
    "\n",
    "# Normalització: valors entre 0 i 1\n",
    "X_train_total = X_train_total / 255.0\n",
    "X_test_total = X_test_total / 255.0\n",
    "\n",
    "# Afegim canal (blanc i negre = 1 canal)\n",
    "X_train_total = X_train_total.reshape(-1, 28, 28, 1)\n",
    "X_test_total = X_test_total.reshape(-1, 28, 28, 1)"
   ]
  },
  {
   "cell_type": "code",
   "execution_count": 7,
   "id": "24289986",
   "metadata": {},
   "outputs": [
    {
     "name": "stdout",
     "output_type": "stream",
     "text": [
      "Etiqueta original: 15\n",
      "One-hot encoded: [0. 0. 0. 0. 0. 0. 0. 0. 0. 0. 0. 0. 0. 0. 0. 1. 0. 0. 0. 0. 0. 0. 0. 0.\n",
      " 0. 0.]\n"
     ]
    }
   ],
   "source": [
    "from sklearn.preprocessing import OneHotEncoder\n",
    "\n",
    "# Inicialitzem l'encodificador\n",
    "encoder = OneHotEncoder(sparse_output=False, categories='auto')\n",
    "\n",
    "# Ajustem i transformem les etiquetes (cal reshaping per a columnes)\n",
    "y_train_cat_letters = encoder.fit_transform(y_letters_train.reshape(-1, 1))\n",
    "y_test_cat_letters = encoder.transform(y_letters_test.reshape(-1, 1))\n",
    "\n",
    "print(\"Etiqueta original:\", y_letters_train[2])\n",
    "print(\"One-hot encoded:\", y_train_cat_letters[2])"
   ]
  },
  {
   "cell_type": "code",
   "execution_count": 9,
   "id": "bfc45f2b",
   "metadata": {},
   "outputs": [
    {
     "name": "stderr",
     "output_type": "stream",
     "text": [
      "c:\\Users\\joana\\anaconda3\\Lib\\site-packages\\keras\\src\\layers\\convolutional\\base_conv.py:113: UserWarning: Do not pass an `input_shape`/`input_dim` argument to a layer. When using Sequential models, prefer using an `Input(shape)` object as the first layer in the model instead.\n",
      "  super().__init__(activity_regularizer=activity_regularizer, **kwargs)\n"
     ]
    },
    {
     "name": "stdout",
     "output_type": "stream",
     "text": [
      "Epoch 1/10\n",
      "\u001b[1m975/975\u001b[0m \u001b[32m━━━━━━━━━━━━━━━━━━━━\u001b[0m\u001b[37m\u001b[0m \u001b[1m17s\u001b[0m 16ms/step - accuracy: 0.4794 - loss: 1.7625 - val_accuracy: 0.8756 - val_loss: 0.4078\n",
      "Epoch 2/10\n",
      "\u001b[1m975/975\u001b[0m \u001b[32m━━━━━━━━━━━━━━━━━━━━\u001b[0m\u001b[37m\u001b[0m \u001b[1m15s\u001b[0m 16ms/step - accuracy: 0.7934 - loss: 0.6492 - val_accuracy: 0.9106 - val_loss: 0.2848\n",
      "Epoch 3/10\n",
      "\u001b[1m975/975\u001b[0m \u001b[32m━━━━━━━━━━━━━━━━━━━━\u001b[0m\u001b[37m\u001b[0m \u001b[1m16s\u001b[0m 16ms/step - accuracy: 0.8471 - loss: 0.4811 - val_accuracy: 0.9184 - val_loss: 0.2551\n",
      "Epoch 4/10\n",
      "\u001b[1m975/975\u001b[0m \u001b[32m━━━━━━━━━━━━━━━━━━━━\u001b[0m\u001b[37m\u001b[0m \u001b[1m16s\u001b[0m 16ms/step - accuracy: 0.8722 - loss: 0.4011 - val_accuracy: 0.9227 - val_loss: 0.2454\n",
      "Epoch 5/10\n",
      "\u001b[1m975/975\u001b[0m \u001b[32m━━━━━━━━━━━━━━━━━━━━\u001b[0m\u001b[37m\u001b[0m \u001b[1m16s\u001b[0m 16ms/step - accuracy: 0.8851 - loss: 0.3575 - val_accuracy: 0.9254 - val_loss: 0.2306\n",
      "Epoch 6/10\n",
      "\u001b[1m975/975\u001b[0m \u001b[32m━━━━━━━━━━━━━━━━━━━━\u001b[0m\u001b[37m\u001b[0m \u001b[1m16s\u001b[0m 16ms/step - accuracy: 0.8949 - loss: 0.3235 - val_accuracy: 0.9284 - val_loss: 0.2211\n",
      "Epoch 7/10\n",
      "\u001b[1m975/975\u001b[0m \u001b[32m━━━━━━━━━━━━━━━━━━━━\u001b[0m\u001b[37m\u001b[0m \u001b[1m16s\u001b[0m 16ms/step - accuracy: 0.9026 - loss: 0.2982 - val_accuracy: 0.9289 - val_loss: 0.2226\n",
      "Epoch 8/10\n",
      "\u001b[1m975/975\u001b[0m \u001b[32m━━━━━━━━━━━━━━━━━━━━\u001b[0m\u001b[37m\u001b[0m \u001b[1m16s\u001b[0m 16ms/step - accuracy: 0.9075 - loss: 0.2832 - val_accuracy: 0.9312 - val_loss: 0.2154\n",
      "Epoch 9/10\n",
      "\u001b[1m975/975\u001b[0m \u001b[32m━━━━━━━━━━━━━━━━━━━━\u001b[0m\u001b[37m\u001b[0m \u001b[1m15s\u001b[0m 15ms/step - accuracy: 0.9121 - loss: 0.2688 - val_accuracy: 0.9313 - val_loss: 0.2173\n",
      "Epoch 10/10\n",
      "\u001b[1m975/975\u001b[0m \u001b[32m━━━━━━━━━━━━━━━━━━━━\u001b[0m\u001b[37m\u001b[0m \u001b[1m16s\u001b[0m 16ms/step - accuracy: 0.9158 - loss: 0.2551 - val_accuracy: 0.9326 - val_loss: 0.2179\n",
      "Precisió CNN: 0.9326\n"
     ]
    }
   ],
   "source": [
    "import tensorflow as tf\n",
    "from tensorflow.keras.models import Sequential # type: ignore\n",
    "from tensorflow.keras.layers import Conv2D, MaxPooling2D, Flatten, Dense, Dropout # type: ignore\n",
    "\n",
    "# Defineixo la CNN\n",
    "model_cnn = Sequential([\n",
    "    Conv2D(32, (3,3), activation='relu', input_shape=(28, 28, 1)),\n",
    "    MaxPooling2D((2,2)),\n",
    "\n",
    "    Conv2D(64, (3,3), activation='relu'),\n",
    "    MaxPooling2D((2,2)),\n",
    "\n",
    "    Flatten(),\n",
    "    Dense(128, activation='relu'),\n",
    "    Dropout(0.5),  # Redueix overfitting\n",
    "    Dense(y_train_cat_letters.shape[1], activation='softmax')  # Sortida: tantes neurones com classes\n",
    "])\n",
    "\n",
    "# Compilo\n",
    "model_cnn.compile(\n",
    "    optimizer='adam',\n",
    "    loss='categorical_crossentropy',\n",
    "    metrics=['accuracy']\n",
    ")\n",
    "\n",
    "# Entreno\n",
    "history_cnn = model_cnn.fit(\n",
    "    X_letters_train, y_train_cat_letters,\n",
    "    epochs=10,\n",
    "    batch_size=128,\n",
    "    validation_data=(X_letters_test, y_test_cat_letters),\n",
    "    verbose=1\n",
    ")\n",
    "\n",
    "# Avaluació\n",
    "test_loss, test_acc = model_cnn.evaluate(X_letters_test, y_test_cat_letters, verbose=0)\n",
    "print(f\"Precisió CNN: {test_acc:.4f}\")"
   ]
  }
 ],
 "metadata": {
  "kernelspec": {
   "display_name": "base",
   "language": "python",
   "name": "python3"
  },
  "language_info": {
   "codemirror_mode": {
    "name": "ipython",
    "version": 3
   },
   "file_extension": ".py",
   "mimetype": "text/x-python",
   "name": "python",
   "nbconvert_exporter": "python",
   "pygments_lexer": "ipython3",
   "version": "3.12.7"
  }
 },
 "nbformat": 4,
 "nbformat_minor": 5
}
